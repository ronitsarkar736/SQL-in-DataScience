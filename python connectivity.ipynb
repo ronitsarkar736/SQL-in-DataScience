{
 "cells": [
  {
   "cell_type": "code",
   "execution_count": 1,
   "id": "56e3d2bc",
   "metadata": {},
   "outputs": [
    {
     "name": "stdout",
     "output_type": "stream",
     "text": [
      "Connection Established\n"
     ]
    }
   ],
   "source": [
    "import mysql.connector\n",
    "mydb=mysql.connector.connect(host='localhost',password='1234',user='root')\n",
    "\n",
    "if mydb.is_connected():\n",
    "    print(\"Connection Established\")"
   ]
  },
  {
   "cell_type": "code",
   "execution_count": 2,
   "id": "b3112a4f",
   "metadata": {},
   "outputs": [],
   "source": [
    "mycursor=mydb.cursor()"
   ]
  },
  {
   "cell_type": "code",
   "execution_count": 4,
   "id": "b65c8159",
   "metadata": {},
   "outputs": [
    {
     "name": "stdout",
     "output_type": "stream",
     "text": [
      "('aaft',)\n",
      "('data',)\n",
      "('datascience',)\n",
      "('information_schema',)\n",
      "('mysql',)\n",
      "('performance_schema',)\n",
      "('school',)\n",
      "('sods',)\n",
      "('student',)\n",
      "('sys',)\n"
     ]
    }
   ],
   "source": [
    "mycursor.execute(\"show databases\")\n",
    "for db in mycursor:\n",
    "    print(db)"
   ]
  },
  {
   "cell_type": "code",
   "execution_count": 29,
   "id": "d496dd7c",
   "metadata": {},
   "outputs": [],
   "source": [
    "import mysql.connector\n",
    "mydb=mysql.connector.connect(host='localhost',password='1234',user='root')\n",
    "mycursor=mydb.cursor()\n",
    "mycursor.execute(\"create database data_info\")"
   ]
  },
  {
   "cell_type": "code",
   "execution_count": 11,
   "id": "18988e1f",
   "metadata": {},
   "outputs": [],
   "source": [
    "import mysql.connector\n",
    "mydb=mysql.connector.connect(host='localhost',password='1234',user='root',database='datascience')\n",
    "mycursor=mydb.cursor()\n",
    "t=\"CREATE TABLE department(book_id int(4),name varchar(20),price float(5,2))\"\n",
    "mycursor.execute(t)"
   ]
  },
  {
   "cell_type": "code",
   "execution_count": 12,
   "id": "4581ed11",
   "metadata": {},
   "outputs": [
    {
     "name": "stdout",
     "output_type": "stream",
     "text": [
      "('book',)\n",
      "('department',)\n",
      "('employees',)\n",
      "('student',)\n"
     ]
    }
   ],
   "source": [
    "import mysql.connector\n",
    "mydb=mysql.connector.connect(host='localhost',password='1234',user='root',database='datascience')\n",
    "mycursor=mydb.cursor()\n",
    "mycursor.execute(\"show tables\")\n",
    "for db in mycursor:\n",
    "    print(db)"
   ]
  },
  {
   "cell_type": "code",
   "execution_count": 16,
   "id": "9e0e1171",
   "metadata": {},
   "outputs": [
    {
     "name": "stdout",
     "output_type": "stream",
     "text": [
      "(1, 'SQL', 550.0)\n",
      "(1, 'SQL', 550.0)\n",
      "(1, 'SQL', 550.0)\n"
     ]
    }
   ],
   "source": [
    "import mysql.connector\n",
    "mydb=mysql.connector.connect(host='localhost',password='1234',user='root',database='datascience')\n",
    "mycursor=mydb.cursor()\n",
    "s=\"SELECT * from book\"\n",
    "mycursor.execute(s)\n",
    "result=mycursor.fetchall()\n",
    "for rec in result:\n",
    "    print(rec)"
   ]
  },
  {
   "cell_type": "code",
   "execution_count": 21,
   "id": "5a017cc6",
   "metadata": {},
   "outputs": [],
   "source": [
    "import mysql.connector\n",
    "mydb=mysql.connector.connect(host='localhost',password='1234',user='root',database='datascience')\n",
    "mycursor=mydb.cursor()\n",
    "s=\"INSERT INTO book(bookid,title,price) VALUES(%s,%s,%s)\"  \n",
    "r1=(1,'SQL',550)\n",
    "mycursor.execute(s,r1)\n",
    "mydb.commit()"
   ]
  },
  {
   "cell_type": "code",
   "execution_count": 22,
   "id": "a8ba0eae",
   "metadata": {},
   "outputs": [
    {
     "name": "stdout",
     "output_type": "stream",
     "text": [
      "(1, 'SQL', 550.0)\n",
      "(1, 'SQL', 550.0)\n",
      "(1, 'Python2', 350.0)\n",
      "(1, 'SQL', 550.0)\n"
     ]
    }
   ],
   "source": [
    "import mysql.connector\n",
    "mydb=mysql.connector.connect(host='localhost',password='1234',user='root',database='datascience')\n",
    "mycursor=mydb.cursor()\n",
    "s=\"SELECT * from book\"\n",
    "mycursor.execute(s)\n",
    "result=mycursor.fetchall()\n",
    "for rec in result:\n",
    "    print(rec)"
   ]
  },
  {
   "cell_type": "code",
   "execution_count": 23,
   "id": "e64999ea",
   "metadata": {},
   "outputs": [],
   "source": [
    "import mysql.connector\n",
    "mydb=mysql.connector.connect(host='localhost',password='1234',user='root',database='datascience')\n",
    "mycursor=mydb.cursor()\n",
    "s=\"INSERT INTO book(bookid,title,price) VALUES(%s,%s,%s)\"  \n",
    "r1=(1,'ML',450)\n",
    "mycursor.execute(s,r1)\n",
    "mydb.commit()"
   ]
  },
  {
   "cell_type": "code",
   "execution_count": 24,
   "id": "513d31ab",
   "metadata": {},
   "outputs": [
    {
     "name": "stdout",
     "output_type": "stream",
     "text": [
      "(1, 'SQL', 550.0)\n",
      "(1, 'SQL', 550.0)\n",
      "(1, 'Python2', 350.0)\n",
      "(1, 'SQL', 550.0)\n",
      "(1, 'ML', 450.0)\n"
     ]
    }
   ],
   "source": [
    "import mysql.connector\n",
    "mydb=mysql.connector.connect(host='localhost',password='1234',user='root',database='datascience')\n",
    "mycursor=mydb.cursor()\n",
    "s=\"SELECT * from book\"\n",
    "mycursor.execute(s)\n",
    "result=mycursor.fetchall()\n",
    "for rec in result:\n",
    "    print(rec)"
   ]
  },
  {
   "cell_type": "code",
   "execution_count": 25,
   "id": "6551a88a",
   "metadata": {},
   "outputs": [
    {
     "name": "stdout",
     "output_type": "stream",
     "text": [
      "1 Records affected\n"
     ]
    }
   ],
   "source": [
    "import mysql.connector\n",
    "mydb=mysql.connector.connect(host='localhost',password='1234',user='root',database='datascience')\n",
    "mycursor=mydb.cursor()\n",
    "s= \"UPDATE book SET price=price+100 WHERE price=350\"\n",
    "mycursor.execute(s)\n",
    "mydb.commit()\n",
    "print(mycursor.rowcount,\"Records affected\")"
   ]
  },
  {
   "cell_type": "code",
   "execution_count": 26,
   "id": "11e65830",
   "metadata": {},
   "outputs": [
    {
     "name": "stdout",
     "output_type": "stream",
     "text": [
      "(1, 'SQL', 550.0)\n",
      "(1, 'SQL', 550.0)\n",
      "(1, 'Python2', 450.0)\n",
      "(1, 'SQL', 550.0)\n",
      "(1, 'ML', 450.0)\n"
     ]
    }
   ],
   "source": [
    "import mysql.connector\n",
    "mydb=mysql.connector.connect(host='localhost',password='1234',user='root',database='datascience')\n",
    "mycursor=mydb.cursor()\n",
    "s=\"SELECT * from book\"\n",
    "mycursor.execute(s)\n",
    "result=mycursor.fetchall()\n",
    "for rec in result:\n",
    "    print(rec)"
   ]
  },
  {
   "cell_type": "code",
   "execution_count": 27,
   "id": "88b3f24f",
   "metadata": {},
   "outputs": [],
   "source": [
    "import mysql.connector\n",
    "mydb=mysql.connector.connect(host='localhost',password='1234',user='root',database='datascience')\n",
    "mycursor=mydb.cursor()\n",
    "s=\"DELETE FROM book WHERE price=450\"\n",
    "mycursor.execute(s)\n",
    "mydb.commit()"
   ]
  },
  {
   "cell_type": "code",
   "execution_count": 28,
   "id": "21a4b26c",
   "metadata": {},
   "outputs": [
    {
     "name": "stdout",
     "output_type": "stream",
     "text": [
      "(1, 'SQL', 550.0)\n",
      "(1, 'SQL', 550.0)\n",
      "(1, 'SQL', 550.0)\n"
     ]
    }
   ],
   "source": [
    "import mysql.connector\n",
    "mydb=mysql.connector.connect(host='localhost',password='1234',user='root',database='datascience')\n",
    "mycursor=mydb.cursor()\n",
    "s=\"SELECT * from book\"\n",
    "mycursor.execute(s)\n",
    "result=mycursor.fetchall()\n",
    "for rec in result:\n",
    "    print(rec)"
   ]
  },
  {
   "cell_type": "code",
   "execution_count": null,
   "id": "f68192e2",
   "metadata": {},
   "outputs": [],
   "source": []
  }
 ],
 "metadata": {
  "kernelspec": {
   "display_name": "Python 3 (ipykernel)",
   "language": "python",
   "name": "python3"
  },
  "language_info": {
   "codemirror_mode": {
    "name": "ipython",
    "version": 3
   },
   "file_extension": ".py",
   "mimetype": "text/x-python",
   "name": "python",
   "nbconvert_exporter": "python",
   "pygments_lexer": "ipython3",
   "version": "3.11.5"
  }
 },
 "nbformat": 4,
 "nbformat_minor": 5
}
